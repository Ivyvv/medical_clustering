{
 "cells": [
  {
   "cell_type": "code",
   "execution_count": 1,
   "id": "42da46bb",
   "metadata": {},
   "outputs": [],
   "source": [
    "import os\n",
    "import zipfile\n",
    "import glob\n",
    "\n",
    "import numpy as np\n",
    "import pandas as pd\n",
    "import matplotlib.pyplot as plt\n",
    "import seaborn as sns"
   ]
  },
  {
   "cell_type": "code",
   "execution_count": null,
   "id": "f004604d",
   "metadata": {},
   "outputs": [],
   "source": [
    "# zip 설치\n",
    "!pip install unzip"
   ]
  },
  {
   "cell_type": "code",
   "execution_count": null,
   "id": "dd4af47b",
   "metadata": {},
   "outputs": [],
   "source": [
    "# zip파일 저장하는곳\n",
    "!unzip ./okchart/chart_data.zip -d ./team_1_data/data/okchart"
   ]
  },
  {
   "cell_type": "code",
   "execution_count": null,
   "id": "3c9a3b05",
   "metadata": {},
   "outputs": [],
   "source": [
    "# zip파일 풀기 \n",
    "zipfile.ZipFile('/home/team_1/okchart/chart_data.zip').extractall('./okchart/')"
   ]
  },
  {
   "cell_type": "code",
   "execution_count": null,
   "id": "11c1e59d",
   "metadata": {
    "scrolled": true
   },
   "outputs": [],
   "source": [
    "dirname = glob.glob('./okchart/chart_data/*/*/*/*')\n",
    "dirname\n",
    "output = sorted(glob.glob('./okchart/chart_data2/*/*/*/*/*.zip'))\n",
    "output"
   ]
  },
  {
   "cell_type": "code",
   "execution_count": null,
   "id": "261f457c",
   "metadata": {
    "scrolled": true
   },
   "outputs": [],
   "source": [
    "# output을 원하는곳에 압축풀기\n",
    "\n",
    "for x in output:\n",
    "    #print('/'.join(x.split('/')[:4]))\n",
    "    path = '/'.join(x.split('/')[:7])\n",
    "    #print(path)\n",
    "    zipfile.ZipFile(x).extractall(path)"
   ]
  },
  {
   "cell_type": "code",
   "execution_count": 2,
   "id": "73902faa",
   "metadata": {
    "scrolled": true
   },
   "outputs": [],
   "source": [
    "cart_paths = sorted(glob.glob('../../okchart/chart_data2/*/*/*/*/*.txt'))\n",
    "not_insu_item_disease_paths = sorted(glob.glob('../../okchart/chart_data2/*/*/*/*/NotInsuItemDisease2Px.txt'))\n",
    "not_insu_px = sorted(glob.glob('../../okchart/chart_data2/*/*/*/*/NotInsuPx.txt'))\n",
    "custcarinsuinfo_paths = sorted(glob.glob('../../okchart/chart_data2/*/*/*/*/custcarinsuinfo.txt'))\n",
    "customer_paths = sorted(glob.glob('../../okchart/chart_data2/*/*/*/*/customer.txt'))\n",
    "detail_paths = sorted(glob.glob('../../okchart/chart_data2/*/*/*/*/detail.txt'))\n",
    "receipt_paths = sorted(glob.glob('../../okchart/chart_data2/*/*/*/*/receipt.txt'))\n",
    "reservaion_paths = sorted(glob.glob('../../okchart/chart_data2/*/*/*/*/reservation_new.txt'))"
   ]
  },
  {
   "cell_type": "code",
   "execution_count": 4,
   "id": "c0e835a6",
   "metadata": {},
   "outputs": [],
   "source": [
    "# 칼럼 정의\n",
    "custcarinsuinfo_columns = ['id', 'custpk', 'startdate']\n",
    "customer_columns = ['id', 'customer_pk', 'reg_date', 'suggest']\n",
    "detail_columns = ['id', 'customer_pk', 'sn', 'Txdate', 'Txitem', 'Dxname', 'Pxcode', 'Pxname', 'Insuyes', 'Txmoney', 'etcinsumark']\n",
    "receipt_columns = ['id', 'customer_pk', 'Txdate', 'calcu_type', 'bonin_money', 'cheonggu_money', 'general_money']\n",
    "reservation_columns = ['id', 'res_customer_pk', 'res_date', 'res_canceled', 'res_visited']"
   ]
  },
  {
   "cell_type": "code",
   "execution_count": 5,
   "id": "d676e15b",
   "metadata": {},
   "outputs": [],
   "source": [
    "def create_df(path_list,col_list):\n",
    "    df_list = []\n",
    "    for path in path_list:\n",
    "        df_temp = pd.read_csv(path, sep = '\\t', names = col_list, low_memory = False)        \n",
    "        df_list.append(df_temp)\n",
    "    df = pd.concat(df_list)\n",
    "    df = df.drop_duplicates()\n",
    "    return df"
   ]
  },
  {
   "cell_type": "code",
   "execution_count": 6,
   "id": "16404b31",
   "metadata": {},
   "outputs": [
    {
     "name": "stdout",
     "output_type": "stream",
     "text": [
      "CPU times: user 1min 16s, sys: 44.3 s, total: 2min 1s\n",
      "Wall time: 2min 12s\n"
     ]
    }
   ],
   "source": [
    "%%time\n",
    "custcarinsuinfo_df = create_df(custcarinsuinfo_paths, custcarinsuinfo_columns)\n",
    "customer_df = create_df(customer_paths, customer_columns)\n",
    "detail_df = create_df(detail_paths, detail_columns)\n",
    "receipt_df = create_df(receipt_paths, receipt_columns)\n",
    "reservation_df = create_df(reservaion_paths, reservation_columns)"
   ]
  },
  {
   "cell_type": "code",
   "execution_count": 7,
   "id": "5c9e79f3",
   "metadata": {
    "scrolled": true
   },
   "outputs": [
    {
     "data": {
      "text/html": [
       "<div>\n",
       "<style scoped>\n",
       "    .dataframe tbody tr th:only-of-type {\n",
       "        vertical-align: middle;\n",
       "    }\n",
       "\n",
       "    .dataframe tbody tr th {\n",
       "        vertical-align: top;\n",
       "    }\n",
       "\n",
       "    .dataframe thead th {\n",
       "        text-align: right;\n",
       "    }\n",
       "</style>\n",
       "<table border=\"1\" class=\"dataframe\">\n",
       "  <thead>\n",
       "    <tr style=\"text-align: right;\">\n",
       "      <th></th>\n",
       "      <th>id</th>\n",
       "      <th>custpk</th>\n",
       "      <th>startdate</th>\n",
       "    </tr>\n",
       "  </thead>\n",
       "  <tbody>\n",
       "    <tr>\n",
       "      <th>0</th>\n",
       "      <td>619dd27d54bfcb65d02733ff</td>\n",
       "      <td>6473</td>\n",
       "      <td>2022-04-25</td>\n",
       "    </tr>\n",
       "    <tr>\n",
       "      <th>1</th>\n",
       "      <td>619dd27d54bfcb65d02733ff</td>\n",
       "      <td>5344</td>\n",
       "      <td>2022-04-26</td>\n",
       "    </tr>\n",
       "    <tr>\n",
       "      <th>2</th>\n",
       "      <td>619dd27d54bfcb65d02733ff</td>\n",
       "      <td>6478</td>\n",
       "      <td>2022-04-26</td>\n",
       "    </tr>\n",
       "    <tr>\n",
       "      <th>3</th>\n",
       "      <td>619dd27d54bfcb65d02733ff</td>\n",
       "      <td>6495</td>\n",
       "      <td>2022-05-04</td>\n",
       "    </tr>\n",
       "    <tr>\n",
       "      <th>4</th>\n",
       "      <td>619dd27d54bfcb65d02733ff</td>\n",
       "      <td>1635</td>\n",
       "      <td>2022-05-09</td>\n",
       "    </tr>\n",
       "  </tbody>\n",
       "</table>\n",
       "</div>"
      ],
      "text/plain": [
       "                         id custpk   startdate\n",
       "0  619dd27d54bfcb65d02733ff   6473  2022-04-25\n",
       "1  619dd27d54bfcb65d02733ff   5344  2022-04-26\n",
       "2  619dd27d54bfcb65d02733ff   6478  2022-04-26\n",
       "3  619dd27d54bfcb65d02733ff   6495  2022-05-04\n",
       "4  619dd27d54bfcb65d02733ff   1635  2022-05-09"
      ]
     },
     "metadata": {},
     "output_type": "display_data"
    },
    {
     "data": {
      "text/html": [
       "<div>\n",
       "<style scoped>\n",
       "    .dataframe tbody tr th:only-of-type {\n",
       "        vertical-align: middle;\n",
       "    }\n",
       "\n",
       "    .dataframe tbody tr th {\n",
       "        vertical-align: top;\n",
       "    }\n",
       "\n",
       "    .dataframe thead th {\n",
       "        text-align: right;\n",
       "    }\n",
       "</style>\n",
       "<table border=\"1\" class=\"dataframe\">\n",
       "  <thead>\n",
       "    <tr style=\"text-align: right;\">\n",
       "      <th></th>\n",
       "      <th>id</th>\n",
       "      <th>customer_pk</th>\n",
       "      <th>reg_date</th>\n",
       "      <th>suggest</th>\n",
       "    </tr>\n",
       "  </thead>\n",
       "  <tbody>\n",
       "    <tr>\n",
       "      <th>0</th>\n",
       "      <td>619dd27d54bfcb65d02733ff</td>\n",
       "      <td>6468</td>\n",
       "      <td>2022-04-22</td>\n",
       "      <td>소개</td>\n",
       "    </tr>\n",
       "    <tr>\n",
       "      <th>1</th>\n",
       "      <td>619dd27d54bfcb65d02733ff</td>\n",
       "      <td>6472</td>\n",
       "      <td>2022-04-25</td>\n",
       "      <td>네이버검색.</td>\n",
       "    </tr>\n",
       "    <tr>\n",
       "      <th>2</th>\n",
       "      <td>619dd27d54bfcb65d02733ff</td>\n",
       "      <td>6473</td>\n",
       "      <td>2022-04-25</td>\n",
       "      <td>지인소개</td>\n",
       "    </tr>\n",
       "    <tr>\n",
       "      <th>3</th>\n",
       "      <td>619dd27d54bfcb65d02733ff</td>\n",
       "      <td>6475</td>\n",
       "      <td>2022-04-25</td>\n",
       "      <td>회사근처</td>\n",
       "    </tr>\n",
       "    <tr>\n",
       "      <th>4</th>\n",
       "      <td>619dd27d54bfcb65d02733ff</td>\n",
       "      <td>6478</td>\n",
       "      <td>2022-04-26</td>\n",
       "      <td>NaN</td>\n",
       "    </tr>\n",
       "  </tbody>\n",
       "</table>\n",
       "</div>"
      ],
      "text/plain": [
       "                         id  customer_pk    reg_date suggest\n",
       "0  619dd27d54bfcb65d02733ff         6468  2022-04-22      소개\n",
       "1  619dd27d54bfcb65d02733ff         6472  2022-04-25  네이버검색.\n",
       "2  619dd27d54bfcb65d02733ff         6473  2022-04-25    지인소개\n",
       "3  619dd27d54bfcb65d02733ff         6475  2022-04-25    회사근처\n",
       "4  619dd27d54bfcb65d02733ff         6478  2022-04-26     NaN"
      ]
     },
     "metadata": {},
     "output_type": "display_data"
    },
    {
     "data": {
      "text/html": [
       "<div>\n",
       "<style scoped>\n",
       "    .dataframe tbody tr th:only-of-type {\n",
       "        vertical-align: middle;\n",
       "    }\n",
       "\n",
       "    .dataframe tbody tr th {\n",
       "        vertical-align: top;\n",
       "    }\n",
       "\n",
       "    .dataframe thead th {\n",
       "        text-align: right;\n",
       "    }\n",
       "</style>\n",
       "<table border=\"1\" class=\"dataframe\">\n",
       "  <thead>\n",
       "    <tr style=\"text-align: right;\">\n",
       "      <th></th>\n",
       "      <th>id</th>\n",
       "      <th>customer_pk</th>\n",
       "      <th>sn</th>\n",
       "      <th>Txdate</th>\n",
       "      <th>Txitem</th>\n",
       "      <th>Dxname</th>\n",
       "      <th>Pxcode</th>\n",
       "      <th>Pxname</th>\n",
       "      <th>Insuyes</th>\n",
       "      <th>Txmoney</th>\n",
       "      <th>etcinsumark</th>\n",
       "    </tr>\n",
       "  </thead>\n",
       "  <tbody>\n",
       "    <tr>\n",
       "      <th>0</th>\n",
       "      <td>619dd27d54bfcb65d02733ff</td>\n",
       "      <td>6466</td>\n",
       "      <td>1458</td>\n",
       "      <td>2022-04-21</td>\n",
       "      <td>보험치료</td>\n",
       "      <td>요추의 염좌 및 긴장</td>\n",
       "      <td>40012</td>\n",
       "      <td>경혈이체</td>\n",
       "      <td>1</td>\n",
       "      <td>4710</td>\n",
       "      <td>NaN</td>\n",
       "    </tr>\n",
       "    <tr>\n",
       "      <th>1</th>\n",
       "      <td>619dd27d54bfcb65d02733ff</td>\n",
       "      <td>6466</td>\n",
       "      <td>1458</td>\n",
       "      <td>2022-04-21</td>\n",
       "      <td>보험치료</td>\n",
       "      <td>요추의 염좌 및 긴장</td>\n",
       "      <td>40070</td>\n",
       "      <td>척추침술</td>\n",
       "      <td>1</td>\n",
       "      <td>3770</td>\n",
       "      <td>NaN</td>\n",
       "    </tr>\n",
       "    <tr>\n",
       "      <th>2</th>\n",
       "      <td>619dd27d54bfcb65d02733ff</td>\n",
       "      <td>6466</td>\n",
       "      <td>1458</td>\n",
       "      <td>2022-04-21</td>\n",
       "      <td>보험치료</td>\n",
       "      <td>관절통, 손목관절</td>\n",
       "      <td>40060</td>\n",
       "      <td>관절강침술</td>\n",
       "      <td>1</td>\n",
       "      <td>3670</td>\n",
       "      <td>NaN</td>\n",
       "    </tr>\n",
       "    <tr>\n",
       "      <th>3</th>\n",
       "      <td>619dd27d54bfcb65d02733ff</td>\n",
       "      <td>6466</td>\n",
       "      <td>1458</td>\n",
       "      <td>2022-04-21</td>\n",
       "      <td>보험치료</td>\n",
       "      <td>요추의 염좌 및 긴장</td>\n",
       "      <td>40091</td>\n",
       "      <td>침전기자극술</td>\n",
       "      <td>1</td>\n",
       "      <td>3220</td>\n",
       "      <td>NaN</td>\n",
       "    </tr>\n",
       "    <tr>\n",
       "      <th>4</th>\n",
       "      <td>619dd27d54bfcb65d02733ff</td>\n",
       "      <td>6466</td>\n",
       "      <td>1458</td>\n",
       "      <td>2022-04-21</td>\n",
       "      <td>보험치료</td>\n",
       "      <td>요추의 염좌 및 긴장</td>\n",
       "      <td>40307</td>\n",
       "      <td>기기구술</td>\n",
       "      <td>1</td>\n",
       "      <td>3380</td>\n",
       "      <td>NaN</td>\n",
       "    </tr>\n",
       "  </tbody>\n",
       "</table>\n",
       "</div>"
      ],
      "text/plain": [
       "                         id  customer_pk    sn      Txdate Txitem  \\\n",
       "0  619dd27d54bfcb65d02733ff         6466  1458  2022-04-21   보험치료   \n",
       "1  619dd27d54bfcb65d02733ff         6466  1458  2022-04-21   보험치료   \n",
       "2  619dd27d54bfcb65d02733ff         6466  1458  2022-04-21   보험치료   \n",
       "3  619dd27d54bfcb65d02733ff         6466  1458  2022-04-21   보험치료   \n",
       "4  619dd27d54bfcb65d02733ff         6466  1458  2022-04-21   보험치료   \n",
       "\n",
       "        Dxname Pxcode  Pxname  Insuyes  Txmoney  etcinsumark  \n",
       "0  요추의 염좌 및 긴장  40012    경혈이체        1     4710          NaN  \n",
       "1  요추의 염좌 및 긴장  40070    척추침술        1     3770          NaN  \n",
       "2    관절통, 손목관절  40060   관절강침술        1     3670          NaN  \n",
       "3  요추의 염좌 및 긴장  40091  침전기자극술        1     3220          NaN  \n",
       "4  요추의 염좌 및 긴장  40307    기기구술        1     3380          NaN  "
      ]
     },
     "metadata": {},
     "output_type": "display_data"
    },
    {
     "data": {
      "text/html": [
       "<div>\n",
       "<style scoped>\n",
       "    .dataframe tbody tr th:only-of-type {\n",
       "        vertical-align: middle;\n",
       "    }\n",
       "\n",
       "    .dataframe tbody tr th {\n",
       "        vertical-align: top;\n",
       "    }\n",
       "\n",
       "    .dataframe thead th {\n",
       "        text-align: right;\n",
       "    }\n",
       "</style>\n",
       "<table border=\"1\" class=\"dataframe\">\n",
       "  <thead>\n",
       "    <tr style=\"text-align: right;\">\n",
       "      <th></th>\n",
       "      <th>id</th>\n",
       "      <th>customer_pk</th>\n",
       "      <th>Txdate</th>\n",
       "      <th>calcu_type</th>\n",
       "      <th>bonin_money</th>\n",
       "      <th>cheonggu_money</th>\n",
       "      <th>general_money</th>\n",
       "    </tr>\n",
       "  </thead>\n",
       "  <tbody>\n",
       "    <tr>\n",
       "      <th>0</th>\n",
       "      <td>619dd27d54bfcb65d02733ff</td>\n",
       "      <td>3139</td>\n",
       "      <td>2022-07-05</td>\n",
       "      <td>B</td>\n",
       "      <td>0</td>\n",
       "      <td>63700</td>\n",
       "      <td>0</td>\n",
       "    </tr>\n",
       "    <tr>\n",
       "      <th>1</th>\n",
       "      <td>619dd27d54bfcb65d02733ff</td>\n",
       "      <td>7629</td>\n",
       "      <td>2022-07-05</td>\n",
       "      <td>1</td>\n",
       "      <td>48100</td>\n",
       "      <td>46520</td>\n",
       "      <td>15000</td>\n",
       "    </tr>\n",
       "    <tr>\n",
       "      <th>2</th>\n",
       "      <td>619dd27d54bfcb65d02733ff</td>\n",
       "      <td>7620</td>\n",
       "      <td>2022-07-05</td>\n",
       "      <td>B</td>\n",
       "      <td>0</td>\n",
       "      <td>77750</td>\n",
       "      <td>0</td>\n",
       "    </tr>\n",
       "    <tr>\n",
       "      <th>3</th>\n",
       "      <td>619dd27d54bfcb65d02733ff</td>\n",
       "      <td>7619</td>\n",
       "      <td>2022-07-05</td>\n",
       "      <td>B</td>\n",
       "      <td>0</td>\n",
       "      <td>77520</td>\n",
       "      <td>0</td>\n",
       "    </tr>\n",
       "    <tr>\n",
       "      <th>4</th>\n",
       "      <td>619dd27d54bfcb65d02733ff</td>\n",
       "      <td>5374</td>\n",
       "      <td>2022-07-05</td>\n",
       "      <td>1</td>\n",
       "      <td>48100</td>\n",
       "      <td>46520</td>\n",
       "      <td>0</td>\n",
       "    </tr>\n",
       "  </tbody>\n",
       "</table>\n",
       "</div>"
      ],
      "text/plain": [
       "                         id  customer_pk      Txdate calcu_type  bonin_money  \\\n",
       "0  619dd27d54bfcb65d02733ff         3139  2022-07-05          B            0   \n",
       "1  619dd27d54bfcb65d02733ff         7629  2022-07-05          1        48100   \n",
       "2  619dd27d54bfcb65d02733ff         7620  2022-07-05          B            0   \n",
       "3  619dd27d54bfcb65d02733ff         7619  2022-07-05          B            0   \n",
       "4  619dd27d54bfcb65d02733ff         5374  2022-07-05          1        48100   \n",
       "\n",
       "   cheonggu_money  general_money  \n",
       "0           63700              0  \n",
       "1           46520          15000  \n",
       "2           77750              0  \n",
       "3           77520              0  \n",
       "4           46520              0  "
      ]
     },
     "metadata": {},
     "output_type": "display_data"
    },
    {
     "data": {
      "text/html": [
       "<div>\n",
       "<style scoped>\n",
       "    .dataframe tbody tr th:only-of-type {\n",
       "        vertical-align: middle;\n",
       "    }\n",
       "\n",
       "    .dataframe tbody tr th {\n",
       "        vertical-align: top;\n",
       "    }\n",
       "\n",
       "    .dataframe thead th {\n",
       "        text-align: right;\n",
       "    }\n",
       "</style>\n",
       "<table border=\"1\" class=\"dataframe\">\n",
       "  <thead>\n",
       "    <tr style=\"text-align: right;\">\n",
       "      <th></th>\n",
       "      <th>id</th>\n",
       "      <th>res_customer_pk</th>\n",
       "      <th>res_date</th>\n",
       "      <th>res_canceled</th>\n",
       "      <th>res_visited</th>\n",
       "    </tr>\n",
       "  </thead>\n",
       "  <tbody>\n",
       "    <tr>\n",
       "      <th>0</th>\n",
       "      <td>619dd27d54bfcb65d02733ff</td>\n",
       "      <td>175</td>\n",
       "      <td>2022-04-21</td>\n",
       "      <td>0</td>\n",
       "      <td>1</td>\n",
       "    </tr>\n",
       "    <tr>\n",
       "      <th>1</th>\n",
       "      <td>619dd27d54bfcb65d02733ff</td>\n",
       "      <td>1483</td>\n",
       "      <td>2022-04-23</td>\n",
       "      <td>0</td>\n",
       "      <td>0</td>\n",
       "    </tr>\n",
       "    <tr>\n",
       "      <th>2</th>\n",
       "      <td>619dd27d54bfcb65d02733ff</td>\n",
       "      <td>6381</td>\n",
       "      <td>2022-04-21</td>\n",
       "      <td>0</td>\n",
       "      <td>1</td>\n",
       "    </tr>\n",
       "    <tr>\n",
       "      <th>3</th>\n",
       "      <td>619dd27d54bfcb65d02733ff</td>\n",
       "      <td>5342</td>\n",
       "      <td>2022-04-20</td>\n",
       "      <td>0</td>\n",
       "      <td>1</td>\n",
       "    </tr>\n",
       "    <tr>\n",
       "      <th>4</th>\n",
       "      <td>619dd27d54bfcb65d02733ff</td>\n",
       "      <td>6437</td>\n",
       "      <td>2022-04-21</td>\n",
       "      <td>0</td>\n",
       "      <td>1</td>\n",
       "    </tr>\n",
       "  </tbody>\n",
       "</table>\n",
       "</div>"
      ],
      "text/plain": [
       "                         id  res_customer_pk    res_date  res_canceled  \\\n",
       "0  619dd27d54bfcb65d02733ff              175  2022-04-21             0   \n",
       "1  619dd27d54bfcb65d02733ff             1483  2022-04-23             0   \n",
       "2  619dd27d54bfcb65d02733ff             6381  2022-04-21             0   \n",
       "3  619dd27d54bfcb65d02733ff             5342  2022-04-20             0   \n",
       "4  619dd27d54bfcb65d02733ff             6437  2022-04-21             0   \n",
       "\n",
       "   res_visited  \n",
       "0            1  \n",
       "1            0  \n",
       "2            1  \n",
       "3            1  \n",
       "4            1  "
      ]
     },
     "metadata": {},
     "output_type": "display_data"
    }
   ],
   "source": [
    "display(custcarinsuinfo_df.head())\n",
    "display(customer_df.head())\n",
    "display(detail_df.head())\n",
    "display(receipt_df.head())\n",
    "display(reservation_df.head())"
   ]
  },
  {
   "cell_type": "code",
   "execution_count": 8,
   "id": "e1b9a6f9",
   "metadata": {
    "scrolled": true
   },
   "outputs": [
    {
     "name": "stdout",
     "output_type": "stream",
     "text": [
      "<class 'pandas.core.frame.DataFrame'>\n",
      "Int64Index: 21800 entries, 0 to 21\n",
      "Data columns (total 3 columns):\n",
      " #   Column     Non-Null Count  Dtype \n",
      "---  ------     --------------  ----- \n",
      " 0   id         21800 non-null  object\n",
      " 1   custpk     21800 non-null  object\n",
      " 2   startdate  21800 non-null  object\n",
      "dtypes: object(3)\n",
      "memory usage: 681.2+ KB\n"
     ]
    },
    {
     "data": {
      "text/plain": [
       "None"
      ]
     },
     "metadata": {},
     "output_type": "display_data"
    },
    {
     "name": "stdout",
     "output_type": "stream",
     "text": [
      "<class 'pandas.core.frame.DataFrame'>\n",
      "Int64Index: 283747 entries, 0 to 172\n",
      "Data columns (total 4 columns):\n",
      " #   Column       Non-Null Count   Dtype \n",
      "---  ------       --------------   ----- \n",
      " 0   id           283747 non-null  object\n",
      " 1   customer_pk  283747 non-null  int64 \n",
      " 2   reg_date     283747 non-null  object\n",
      " 3   suggest      80768 non-null   object\n",
      "dtypes: int64(1), object(3)\n",
      "memory usage: 10.8+ MB\n"
     ]
    },
    {
     "data": {
      "text/plain": [
       "None"
      ]
     },
     "metadata": {},
     "output_type": "display_data"
    },
    {
     "name": "stdout",
     "output_type": "stream",
     "text": [
      "<class 'pandas.core.frame.DataFrame'>\n",
      "Int64Index: 10501158 entries, 0 to 16289\n",
      "Data columns (total 11 columns):\n",
      " #   Column       Dtype  \n",
      "---  ------       -----  \n",
      " 0   id           object \n",
      " 1   customer_pk  int64  \n",
      " 2   sn           object \n",
      " 3   Txdate       object \n",
      " 4   Txitem       object \n",
      " 5   Dxname       object \n",
      " 6   Pxcode       object \n",
      " 7   Pxname       object \n",
      " 8   Insuyes      int64  \n",
      " 9   Txmoney      int64  \n",
      " 10  etcinsumark  float64\n",
      "dtypes: float64(1), int64(3), object(7)\n",
      "memory usage: 961.4+ MB\n"
     ]
    },
    {
     "data": {
      "text/plain": [
       "None"
      ]
     },
     "metadata": {},
     "output_type": "display_data"
    },
    {
     "name": "stdout",
     "output_type": "stream",
     "text": [
      "<class 'pandas.core.frame.DataFrame'>\n",
      "Int64Index: 1448412 entries, 0 to 1687\n",
      "Data columns (total 7 columns):\n",
      " #   Column          Non-Null Count    Dtype \n",
      "---  ------          --------------    ----- \n",
      " 0   id              1448412 non-null  object\n",
      " 1   customer_pk     1448412 non-null  int64 \n",
      " 2   Txdate          1448412 non-null  object\n",
      " 3   calcu_type      1446547 non-null  object\n",
      " 4   bonin_money     1448412 non-null  int64 \n",
      " 5   cheonggu_money  1448412 non-null  int64 \n",
      " 6   general_money   1448412 non-null  int64 \n",
      "dtypes: int64(4), object(3)\n",
      "memory usage: 88.4+ MB\n"
     ]
    },
    {
     "data": {
      "text/plain": [
       "None"
      ]
     },
     "metadata": {},
     "output_type": "display_data"
    },
    {
     "name": "stdout",
     "output_type": "stream",
     "text": [
      "<class 'pandas.core.frame.DataFrame'>\n",
      "Int64Index: 616091 entries, 0 to 309\n",
      "Data columns (total 5 columns):\n",
      " #   Column           Non-Null Count   Dtype \n",
      "---  ------           --------------   ----- \n",
      " 0   id               616091 non-null  object\n",
      " 1   res_customer_pk  616091 non-null  int64 \n",
      " 2   res_date         616091 non-null  object\n",
      " 3   res_canceled     616091 non-null  int64 \n",
      " 4   res_visited      616091 non-null  int64 \n",
      "dtypes: int64(3), object(2)\n",
      "memory usage: 28.2+ MB\n"
     ]
    },
    {
     "data": {
      "text/plain": [
       "None"
      ]
     },
     "metadata": {},
     "output_type": "display_data"
    }
   ],
   "source": [
    "display(custcarinsuinfo_df.info())\n",
    "display(customer_df.info())\n",
    "display(detail_df.info())\n",
    "display(receipt_df.info())\n",
    "display(reservation_df.info())"
   ]
  }
 ],
 "metadata": {
  "kernelspec": {
   "display_name": "Python 3 (ipykernel)",
   "language": "python",
   "name": "python3"
  },
  "language_info": {
   "codemirror_mode": {
    "name": "ipython",
    "version": 3
   },
   "file_extension": ".py",
   "mimetype": "text/x-python",
   "name": "python",
   "nbconvert_exporter": "python",
   "pygments_lexer": "ipython3",
   "version": "3.9.12"
  }
 },
 "nbformat": 4,
 "nbformat_minor": 5
}
